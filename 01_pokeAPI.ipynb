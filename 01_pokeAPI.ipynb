{
  "nbformat": 4,
  "nbformat_minor": 0,
  "metadata": {
    "colab": {
      "provenance": [],
      "authorship_tag": "ABX9TyOvj/x3UItGmu4/l9HLtxLM",
      "include_colab_link": true
    },
    "kernelspec": {
      "name": "python3",
      "display_name": "Python 3"
    },
    "language_info": {
      "name": "python"
    }
  },
  "cells": [
    {
      "cell_type": "markdown",
      "metadata": {
        "id": "view-in-github",
        "colab_type": "text"
      },
      "source": [
        "<a href=\"https://colab.research.google.com/github/albertopardini/datos.ninja/blob/main/01_pokeAPI.ipynb\" target=\"_parent\"><img src=\"https://colab.research.google.com/assets/colab-badge.svg\" alt=\"Open In Colab\"/></a>"
      ]
    },
    {
      "cell_type": "markdown",
      "source": [
        "Ejemplo de uso de la API de Pokemon **PokeAPI**  ✅  \n",
        "https://pokeapi.co/"
      ],
      "metadata": {
        "id": "LRKnVGK1aXQm"
      }
    },
    {
      "cell_type": "markdown",
      "source": [
        "Créditos: **luisetindev**  ⭐\n",
        "https://www.youtube.com/watch?v=ibBAoNq0tl8\n",
        "\n",
        "---------------------------------------------------------------------------"
      ],
      "metadata": {
        "id": "zCbZDnuubOQS"
      }
    },
    {
      "cell_type": "markdown",
      "source": [
        "La librería requests de Python permite realizar solicitudes HTTP, es decir, enviar y recibir datos de sitios web. Es una herramienta útil para el desarrollo web moderno.   \n",
        "\n",
        "**Características**  \n",
        "Simplifica el proceso de envío y recepción de datos.   \n",
        "Ofrece una interfaz uniforme para los métodos **GET** y **POST**.   \n",
        "Permite trabajar con proxies para aumentar la flexibilidad y la privacidad.   \n",
        "Incluye funciones avanzadas, como el manejo de excepciones HTTP o la autenticación de usuarios\n",
        "\n",
        "**Cómo instalar la librería**   \n",
        "Puedes encontrar la librería en pip, donde encontrarás las versiones disponibles, la documentación, y su repositorio\n",
        "Para instalar la librería, puedes usar la instrucción *pip install requests*  \n",
        "\n",
        "**Cómo usar la librería**   \n",
        "Para hacer una petición GET, simplemente hay que llamar a la función get()\n",
        "Si la respuesta es un JSON, puedes llamar al método json() de la respuesta para que decodifique los datos\n",
        "Comprueba el código de la respuesta para verificar si la respuesta es válida o se ha producido un fallo.  \n",
        "\n",
        "**Documentación**   \n",
        "La documentación de la librería se encuentra en la página docs.python-request.org"
      ],
      "metadata": {
        "id": "omK3SYFgct9D"
      }
    },
    {
      "cell_type": "markdown",
      "source": [
        "Importa la librería request."
      ],
      "metadata": {
        "id": "KttwuTTEeQUk"
      }
    },
    {
      "cell_type": "code",
      "source": [
        "import requests"
      ],
      "metadata": {
        "id": "Zji8Wiaicp4s"
      },
      "execution_count": 21,
      "outputs": []
    },
    {
      "cell_type": "markdown",
      "source": [
        "End Point ó URL de la API"
      ],
      "metadata": {
        "id": "BlovEe_7etWF"
      }
    },
    {
      "cell_type": "code",
      "source": [
        "URL=\"https://pokeapi.co/api/v2/pokemon/\""
      ],
      "metadata": {
        "id": "o3vAy5xwe4rj"
      },
      "execution_count": 43,
      "outputs": []
    },
    {
      "cell_type": "markdown",
      "source": [
        "Probaremos con el nombre de 3 pokemones: **pikachu, ditto y gyarados**"
      ],
      "metadata": {
        "id": "_E-L8jFTfAwU"
      }
    },
    {
      "cell_type": "code",
      "execution_count": 44,
      "metadata": {
        "colab": {
          "base_uri": "https://localhost:8080/"
        },
        "id": "LYm1GWhSZKmL",
        "outputId": "7473e2cd-0118-4f5a-a406-01cdd83a6276"
      },
      "outputs": [
        {
          "name": "stdout",
          "output_type": "stream",
          "text": [
            "Ingrese el nombre del pokemon:ditto\n"
          ]
        }
      ],
      "source": [
        "pokemon=input(\"Ingrese el nombre del pokemon:\")"
      ]
    },
    {
      "cell_type": "code",
      "source": [
        "respuesta=requests.get(URL + pokemon)"
      ],
      "metadata": {
        "id": "zlzh8XBrgjI7"
      },
      "execution_count": 45,
      "outputs": []
    },
    {
      "cell_type": "markdown",
      "source": [
        "El método **.json()**\n",
        "\n",
        "En Python, cuando realizas una solicitud a un servidor web (por ejemplo, usando la biblioteca requests), la respuesta del servidor a menudo viene en formato JSON.\n",
        "El método .json() se utiliza para analizar esta respuesta JSON y convertirla en un objeto Python, que generalmente es un diccionario o una lista.\n",
        "Esto facilita el acceso a los datos dentro de la respuesta."
      ],
      "metadata": {
        "id": "2flvwYRziZV5"
      }
    },
    {
      "cell_type": "code",
      "source": [
        "datos=respuesta.json()"
      ],
      "metadata": {
        "id": "dirGgzDJh14y"
      },
      "execution_count": 46,
      "outputs": []
    },
    {
      "cell_type": "markdown",
      "source": [
        "Esto inicia un bucle for que itera sobre la lista de movimientos del Pokémon.\n",
        "datos es un diccionario Python (como resultado de respuesta.json()) y contiene una clave llamada \"moves\". El valor asociado a \"moves\" es una lista de diccionarios, donde cada diccionario representa un movimiento.  \n",
        "Dentro del bucle, para cada move (que es un diccionario), accedemos al nombre del movimiento.\n",
        "move[\"move\"] accede a otro diccionario anidado dentro de move.\n",
        "move[\"move\"][\"name\"] accede al valor de la clave \"name\" dentro de ese diccionario anidado, que es el nombre del movimiento.\n",
        "Finalmente, el nombre del movimiento se imprime."
      ],
      "metadata": {
        "id": "zgPHzwb7oQQ_"
      }
    },
    {
      "cell_type": "code",
      "source": [
        "print(f\"Movimientos de {pokemon}\")\n",
        "for move in datos[\"moves\"]:\n",
        "    print(move[\"move\"][\"name\"])"
      ],
      "metadata": {
        "colab": {
          "base_uri": "https://localhost:8080/"
        },
        "collapsed": true,
        "id": "Qbq8ZK1EgXBS",
        "outputId": "ba3b858e-2b73-44e0-cdf7-f668fa690de3"
      },
      "execution_count": 49,
      "outputs": [
        {
          "output_type": "stream",
          "name": "stdout",
          "text": [
            "Movimientos de ditto\n",
            "transform\n"
          ]
        }
      ]
    },
    {
      "cell_type": "markdown",
      "source": [
        "Idem anterior con la clave \"type\""
      ],
      "metadata": {
        "id": "91p0KcpQo8vV"
      }
    },
    {
      "cell_type": "code",
      "source": [
        "print(f\"Tipos de {pokemon}\")\n",
        "for type in datos[\"types\"]:\n",
        "    print(type[\"type\"][\"name\"])"
      ],
      "metadata": {
        "colab": {
          "base_uri": "https://localhost:8080/"
        },
        "id": "AF0xVW4KgWtS",
        "outputId": "38c48e8e-18d4-4255-a836-a8d64a5cc215"
      },
      "execution_count": 50,
      "outputs": [
        {
          "output_type": "stream",
          "name": "stdout",
          "text": [
            "Tipos de ditto\n",
            "normal\n"
          ]
        }
      ]
    },
    {
      "cell_type": "markdown",
      "source": [
        "Imprime el valor de la clave \"id\""
      ],
      "metadata": {
        "id": "ALQ4iAqZpQLv"
      }
    },
    {
      "cell_type": "code",
      "source": [
        "print(datos[\"id\"])"
      ],
      "metadata": {
        "colab": {
          "base_uri": "https://localhost:8080/"
        },
        "id": "yR5jZ-aomiBW",
        "outputId": "65f061ca-384a-4ccd-f561-dfe20daf2d28"
      },
      "execution_count": 47,
      "outputs": [
        {
          "output_type": "stream",
          "name": "stdout",
          "text": [
            "132\n"
          ]
        }
      ]
    }
  ]
}